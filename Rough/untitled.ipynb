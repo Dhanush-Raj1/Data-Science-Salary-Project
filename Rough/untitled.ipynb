{
 "cells": [
  {
   "cell_type": "code",
   "execution_count": 1,
   "metadata": {},
   "outputs": [],
   "source": [
    "import pandas as pd\n",
    "import numpy as np"
   ]
  },
  {
   "cell_type": "code",
   "execution_count": 4,
   "metadata": {},
   "outputs": [
    {
     "data": {
      "text/html": [
       "<div>\n",
       "<style scoped>\n",
       "    .dataframe tbody tr th:only-of-type {\n",
       "        vertical-align: middle;\n",
       "    }\n",
       "\n",
       "    .dataframe tbody tr th {\n",
       "        vertical-align: top;\n",
       "    }\n",
       "\n",
       "    .dataframe thead th {\n",
       "        text-align: right;\n",
       "    }\n",
       "</style>\n",
       "<table border=\"1\" class=\"dataframe\">\n",
       "  <thead>\n",
       "    <tr style=\"text-align: right;\">\n",
       "      <th></th>\n",
       "      <th>Company Name</th>\n",
       "      <th>Job Title</th>\n",
       "      <th>Location</th>\n",
       "      <th>Job Description</th>\n",
       "      <th>Rating</th>\n",
       "      <th>Size</th>\n",
       "      <th>Industry</th>\n",
       "      <th>Sector</th>\n",
       "      <th>Founded</th>\n",
       "      <th>Ownership</th>\n",
       "      <th>...</th>\n",
       "      <th>avg_salary</th>\n",
       "      <th>age</th>\n",
       "      <th>python</th>\n",
       "      <th>r</th>\n",
       "      <th>spark</th>\n",
       "      <th>aws</th>\n",
       "      <th>excel</th>\n",
       "      <th>genai</th>\n",
       "      <th>LLMs</th>\n",
       "      <th>sql</th>\n",
       "    </tr>\n",
       "  </thead>\n",
       "  <tbody>\n",
       "    <tr>\n",
       "      <th>0</th>\n",
       "      <td>Karmaeduconsultant</td>\n",
       "      <td>Data Scientist</td>\n",
       "      <td>Karmaeduconsultant</td>\n",
       "      <td>Job Description: As a Data Scientist at our co...</td>\n",
       "      <td>4.0</td>\n",
       "      <td>1001 - 5000 Employees</td>\n",
       "      <td>Enterprise Software &amp; Network Solutions</td>\n",
       "      <td>Finance</td>\n",
       "      <td>2006.0</td>\n",
       "      <td>Company - Private</td>\n",
       "      <td>...</td>\n",
       "      <td>7</td>\n",
       "      <td>18.0</td>\n",
       "      <td>1</td>\n",
       "      <td>0</td>\n",
       "      <td>1</td>\n",
       "      <td>0</td>\n",
       "      <td>1</td>\n",
       "      <td>0</td>\n",
       "      <td>0</td>\n",
       "      <td>1</td>\n",
       "    </tr>\n",
       "    <tr>\n",
       "      <th>1</th>\n",
       "      <td>AQB Solutions Pvt Ltd</td>\n",
       "      <td>Data Scientist</td>\n",
       "      <td>Remote</td>\n",
       "      <td>Must have: Minimum Experience 5+years\\nPython ...</td>\n",
       "      <td>4.6</td>\n",
       "      <td>51 - 200 Employees</td>\n",
       "      <td>Enterprise Software &amp; Network Solutions</td>\n",
       "      <td>Information Technology</td>\n",
       "      <td>2009.0</td>\n",
       "      <td>Company - Private</td>\n",
       "      <td>...</td>\n",
       "      <td>11</td>\n",
       "      <td>15.0</td>\n",
       "      <td>1</td>\n",
       "      <td>0</td>\n",
       "      <td>0</td>\n",
       "      <td>0</td>\n",
       "      <td>0</td>\n",
       "      <td>0</td>\n",
       "      <td>0</td>\n",
       "      <td>1</td>\n",
       "    </tr>\n",
       "    <tr>\n",
       "      <th>2</th>\n",
       "      <td>Zelton Solutions</td>\n",
       "      <td>Data Scientist</td>\n",
       "      <td>Zelton Solutions</td>\n",
       "      <td>Job Description:\\nResponsibilities:\\nCollabora...</td>\n",
       "      <td>4.0</td>\n",
       "      <td>1001 - 5000 Employees</td>\n",
       "      <td>Enterprise Software &amp; Network Solutions</td>\n",
       "      <td>Management and consulting</td>\n",
       "      <td>2009.0</td>\n",
       "      <td>Company - Private</td>\n",
       "      <td>...</td>\n",
       "      <td>12</td>\n",
       "      <td>15.0</td>\n",
       "      <td>0</td>\n",
       "      <td>0</td>\n",
       "      <td>0</td>\n",
       "      <td>0</td>\n",
       "      <td>0</td>\n",
       "      <td>0</td>\n",
       "      <td>1</td>\n",
       "      <td>0</td>\n",
       "    </tr>\n",
       "    <tr>\n",
       "      <th>3</th>\n",
       "      <td>Global Employees</td>\n",
       "      <td>Python Data Scientist(Contract)</td>\n",
       "      <td>Global Employees</td>\n",
       "      <td>Job Description\\nPython Data Scientist/Analyst...</td>\n",
       "      <td>4.0</td>\n",
       "      <td>1001 - 5000 Employees</td>\n",
       "      <td>Enterprise Software &amp; Network Solutions</td>\n",
       "      <td>Finance</td>\n",
       "      <td>2009.0</td>\n",
       "      <td>Company - Private</td>\n",
       "      <td>...</td>\n",
       "      <td>25</td>\n",
       "      <td>15.0</td>\n",
       "      <td>1</td>\n",
       "      <td>0</td>\n",
       "      <td>0</td>\n",
       "      <td>0</td>\n",
       "      <td>0</td>\n",
       "      <td>0</td>\n",
       "      <td>0</td>\n",
       "      <td>0</td>\n",
       "    </tr>\n",
       "    <tr>\n",
       "      <th>4</th>\n",
       "      <td>Saaki Argus &amp; Averil Consulting</td>\n",
       "      <td>Junior Data Scientist</td>\n",
       "      <td>Chennai</td>\n",
       "      <td>About the Role:\\nWe are looking for a Data Sci...</td>\n",
       "      <td>4.1</td>\n",
       "      <td>51 - 200 Employees</td>\n",
       "      <td>HR Consulting</td>\n",
       "      <td>Human resources and staffing</td>\n",
       "      <td>1998.0</td>\n",
       "      <td>Private Practice / Firm</td>\n",
       "      <td>...</td>\n",
       "      <td>6</td>\n",
       "      <td>26.0</td>\n",
       "      <td>0</td>\n",
       "      <td>0</td>\n",
       "      <td>0</td>\n",
       "      <td>0</td>\n",
       "      <td>0</td>\n",
       "      <td>0</td>\n",
       "      <td>0</td>\n",
       "      <td>0</td>\n",
       "    </tr>\n",
       "  </tbody>\n",
       "</table>\n",
       "<p>5 rows × 23 columns</p>\n",
       "</div>"
      ],
      "text/plain": [
       "                      Company Name                        Job Title  \\\n",
       "0               Karmaeduconsultant                   Data Scientist   \n",
       "1            AQB Solutions Pvt Ltd                   Data Scientist   \n",
       "2                 Zelton Solutions                   Data Scientist   \n",
       "3                 Global Employees  Python Data Scientist(Contract)   \n",
       "4  Saaki Argus & Averil Consulting            Junior Data Scientist   \n",
       "\n",
       "             Location                                    Job Description  \\\n",
       "0  Karmaeduconsultant  Job Description: As a Data Scientist at our co...   \n",
       "1              Remote  Must have: Minimum Experience 5+years\\nPython ...   \n",
       "2    Zelton Solutions  Job Description:\\nResponsibilities:\\nCollabora...   \n",
       "3    Global Employees  Job Description\\nPython Data Scientist/Analyst...   \n",
       "4             Chennai  About the Role:\\nWe are looking for a Data Sci...   \n",
       "\n",
       "   Rating                   Size                                 Industry  \\\n",
       "0     4.0  1001 - 5000 Employees  Enterprise Software & Network Solutions   \n",
       "1     4.6     51 - 200 Employees  Enterprise Software & Network Solutions   \n",
       "2     4.0  1001 - 5000 Employees  Enterprise Software & Network Solutions   \n",
       "3     4.0  1001 - 5000 Employees  Enterprise Software & Network Solutions   \n",
       "4     4.1     51 - 200 Employees                            HR Consulting   \n",
       "\n",
       "                         Sector  Founded                Ownership  ...  \\\n",
       "0                       Finance   2006.0        Company - Private  ...   \n",
       "1        Information Technology   2009.0        Company - Private  ...   \n",
       "2     Management and consulting   2009.0        Company - Private  ...   \n",
       "3                       Finance   2009.0        Company - Private  ...   \n",
       "4  Human resources and staffing   1998.0  Private Practice / Firm  ...   \n",
       "\n",
       "  avg_salary   age  python  r  spark  aws  excel  genai  LLMs  sql  \n",
       "0          7  18.0       1  0      1    0      1      0     0    1  \n",
       "1         11  15.0       1  0      0    0      0      0     0    1  \n",
       "2         12  15.0       0  0      0    0      0      0     1    0  \n",
       "3         25  15.0       1  0      0    0      0      0     0    0  \n",
       "4          6  26.0       0  0      0    0      0      0     0    0  \n",
       "\n",
       "[5 rows x 23 columns]"
      ]
     },
     "execution_count": 4,
     "metadata": {},
     "output_type": "execute_result"
    }
   ],
   "source": [
    "data = pd.read_csv(r'F:\\Data Science\\Data-Science-Salary-Project\\artifacts\\data_cleaned.csv')\n",
    "data.head()"
   ]
  },
  {
   "cell_type": "code",
   "execution_count": 5,
   "metadata": {},
   "outputs": [
    {
     "data": {
      "text/plain": [
       "Index(['Company Name', 'Job Title', 'Location', 'Job Description', 'Rating',\n",
       "       'Size', 'Industry', 'Sector', 'Founded', 'Ownership', 'Revenue',\n",
       "       'min_salary', 'max_salary', 'avg_salary', 'age', 'python', 'r', 'spark',\n",
       "       'aws', 'excel', 'genai', 'LLMs', 'sql'],\n",
       "      dtype='object')"
      ]
     },
     "execution_count": 5,
     "metadata": {},
     "output_type": "execute_result"
    }
   ],
   "source": [
    "data.columns"
   ]
  },
  {
   "cell_type": "code",
   "execution_count": 12,
   "metadata": {},
   "outputs": [
    {
     "data": {
      "text/html": [
       "<div>\n",
       "<style scoped>\n",
       "    .dataframe tbody tr th:only-of-type {\n",
       "        vertical-align: middle;\n",
       "    }\n",
       "\n",
       "    .dataframe tbody tr th {\n",
       "        vertical-align: top;\n",
       "    }\n",
       "\n",
       "    .dataframe thead th {\n",
       "        text-align: right;\n",
       "    }\n",
       "</style>\n",
       "<table border=\"1\" class=\"dataframe\">\n",
       "  <thead>\n",
       "    <tr style=\"text-align: right;\">\n",
       "      <th></th>\n",
       "      <th>Company Name</th>\n",
       "      <th>Job Title</th>\n",
       "      <th>Location</th>\n",
       "      <th>Job Description</th>\n",
       "      <th>Rating</th>\n",
       "      <th>Size</th>\n",
       "      <th>Industry</th>\n",
       "      <th>Sector</th>\n",
       "      <th>Founded</th>\n",
       "      <th>Ownership</th>\n",
       "      <th>...</th>\n",
       "      <th>avg_salary</th>\n",
       "      <th>age</th>\n",
       "      <th>python</th>\n",
       "      <th>r</th>\n",
       "      <th>spark</th>\n",
       "      <th>aws</th>\n",
       "      <th>excel</th>\n",
       "      <th>genai</th>\n",
       "      <th>LLMs</th>\n",
       "      <th>sql</th>\n",
       "    </tr>\n",
       "  </thead>\n",
       "  <tbody>\n",
       "    <tr>\n",
       "      <th>0</th>\n",
       "      <td>Karmaeduconsultant</td>\n",
       "      <td>Data Scientist</td>\n",
       "      <td>Karmaeduconsultant</td>\n",
       "      <td>Job Description: As a Data Scientist at our co...</td>\n",
       "      <td>4.0</td>\n",
       "      <td>1001 - 5000 Employees</td>\n",
       "      <td>Enterprise Software &amp; Network Solutions</td>\n",
       "      <td>Finance</td>\n",
       "      <td>2006.0</td>\n",
       "      <td>Company - Private</td>\n",
       "      <td>...</td>\n",
       "      <td>7</td>\n",
       "      <td>18.0</td>\n",
       "      <td>1</td>\n",
       "      <td>0</td>\n",
       "      <td>1</td>\n",
       "      <td>0</td>\n",
       "      <td>1</td>\n",
       "      <td>0</td>\n",
       "      <td>0</td>\n",
       "      <td>1</td>\n",
       "    </tr>\n",
       "    <tr>\n",
       "      <th>1</th>\n",
       "      <td>AQB Solutions Pvt Ltd</td>\n",
       "      <td>Data Scientist</td>\n",
       "      <td>Remote</td>\n",
       "      <td>Must have: Minimum Experience 5+years\\nPython ...</td>\n",
       "      <td>4.6</td>\n",
       "      <td>51 - 200 Employees</td>\n",
       "      <td>Enterprise Software &amp; Network Solutions</td>\n",
       "      <td>Information Technology</td>\n",
       "      <td>2009.0</td>\n",
       "      <td>Company - Private</td>\n",
       "      <td>...</td>\n",
       "      <td>11</td>\n",
       "      <td>15.0</td>\n",
       "      <td>1</td>\n",
       "      <td>0</td>\n",
       "      <td>0</td>\n",
       "      <td>0</td>\n",
       "      <td>0</td>\n",
       "      <td>0</td>\n",
       "      <td>0</td>\n",
       "      <td>1</td>\n",
       "    </tr>\n",
       "    <tr>\n",
       "      <th>2</th>\n",
       "      <td>Zelton Solutions</td>\n",
       "      <td>Data Scientist</td>\n",
       "      <td>Zelton Solutions</td>\n",
       "      <td>Job Description:\\nResponsibilities:\\nCollabora...</td>\n",
       "      <td>4.0</td>\n",
       "      <td>1001 - 5000 Employees</td>\n",
       "      <td>Enterprise Software &amp; Network Solutions</td>\n",
       "      <td>Management and consulting</td>\n",
       "      <td>2009.0</td>\n",
       "      <td>Company - Private</td>\n",
       "      <td>...</td>\n",
       "      <td>12</td>\n",
       "      <td>15.0</td>\n",
       "      <td>0</td>\n",
       "      <td>0</td>\n",
       "      <td>0</td>\n",
       "      <td>0</td>\n",
       "      <td>0</td>\n",
       "      <td>0</td>\n",
       "      <td>1</td>\n",
       "      <td>0</td>\n",
       "    </tr>\n",
       "    <tr>\n",
       "      <th>3</th>\n",
       "      <td>Global Employees</td>\n",
       "      <td>Python Data Scientist(Contract)</td>\n",
       "      <td>Global Employees</td>\n",
       "      <td>Job Description\\nPython Data Scientist/Analyst...</td>\n",
       "      <td>4.0</td>\n",
       "      <td>1001 - 5000 Employees</td>\n",
       "      <td>Enterprise Software &amp; Network Solutions</td>\n",
       "      <td>Finance</td>\n",
       "      <td>2009.0</td>\n",
       "      <td>Company - Private</td>\n",
       "      <td>...</td>\n",
       "      <td>25</td>\n",
       "      <td>15.0</td>\n",
       "      <td>1</td>\n",
       "      <td>0</td>\n",
       "      <td>0</td>\n",
       "      <td>0</td>\n",
       "      <td>0</td>\n",
       "      <td>0</td>\n",
       "      <td>0</td>\n",
       "      <td>0</td>\n",
       "    </tr>\n",
       "    <tr>\n",
       "      <th>4</th>\n",
       "      <td>Saaki Argus &amp; Averil Consulting</td>\n",
       "      <td>Junior Data Scientist</td>\n",
       "      <td>Chennai</td>\n",
       "      <td>About the Role:\\nWe are looking for a Data Sci...</td>\n",
       "      <td>4.1</td>\n",
       "      <td>51 - 200 Employees</td>\n",
       "      <td>HR Consulting</td>\n",
       "      <td>Human resources and staffing</td>\n",
       "      <td>1998.0</td>\n",
       "      <td>Private Practice / Firm</td>\n",
       "      <td>...</td>\n",
       "      <td>6</td>\n",
       "      <td>26.0</td>\n",
       "      <td>0</td>\n",
       "      <td>0</td>\n",
       "      <td>0</td>\n",
       "      <td>0</td>\n",
       "      <td>0</td>\n",
       "      <td>0</td>\n",
       "      <td>0</td>\n",
       "      <td>0</td>\n",
       "    </tr>\n",
       "  </tbody>\n",
       "</table>\n",
       "<p>5 rows × 23 columns</p>\n",
       "</div>"
      ],
      "text/plain": [
       "                      Company Name                        Job Title  \\\n",
       "0               Karmaeduconsultant                   Data Scientist   \n",
       "1            AQB Solutions Pvt Ltd                   Data Scientist   \n",
       "2                 Zelton Solutions                   Data Scientist   \n",
       "3                 Global Employees  Python Data Scientist(Contract)   \n",
       "4  Saaki Argus & Averil Consulting            Junior Data Scientist   \n",
       "\n",
       "             Location                                    Job Description  \\\n",
       "0  Karmaeduconsultant  Job Description: As a Data Scientist at our co...   \n",
       "1              Remote  Must have: Minimum Experience 5+years\\nPython ...   \n",
       "2    Zelton Solutions  Job Description:\\nResponsibilities:\\nCollabora...   \n",
       "3    Global Employees  Job Description\\nPython Data Scientist/Analyst...   \n",
       "4             Chennai  About the Role:\\nWe are looking for a Data Sci...   \n",
       "\n",
       "   Rating                   Size                                 Industry  \\\n",
       "0     4.0  1001 - 5000 Employees  Enterprise Software & Network Solutions   \n",
       "1     4.6     51 - 200 Employees  Enterprise Software & Network Solutions   \n",
       "2     4.0  1001 - 5000 Employees  Enterprise Software & Network Solutions   \n",
       "3     4.0  1001 - 5000 Employees  Enterprise Software & Network Solutions   \n",
       "4     4.1     51 - 200 Employees                            HR Consulting   \n",
       "\n",
       "                         Sector  Founded                Ownership  ...  \\\n",
       "0                       Finance   2006.0        Company - Private  ...   \n",
       "1        Information Technology   2009.0        Company - Private  ...   \n",
       "2     Management and consulting   2009.0        Company - Private  ...   \n",
       "3                       Finance   2009.0        Company - Private  ...   \n",
       "4  Human resources and staffing   1998.0  Private Practice / Firm  ...   \n",
       "\n",
       "  avg_salary   age  python  r  spark  aws  excel  genai  LLMs  sql  \n",
       "0          7  18.0       1  0      1    0      1      0     0    1  \n",
       "1         11  15.0       1  0      0    0      0      0     0    1  \n",
       "2         12  15.0       0  0      0    0      0      0     1    0  \n",
       "3         25  15.0       1  0      0    0      0      0     0    0  \n",
       "4          6  26.0       0  0      0    0      0      0     0    0  \n",
       "\n",
       "[5 rows x 23 columns]"
      ]
     },
     "execution_count": 12,
     "metadata": {},
     "output_type": "execute_result"
    }
   ],
   "source": [
    "data1 = pd.read_csv(r'F:\\Data Science\\Data-Science-Salary-Project\\data\\data_cleaned.csv')\n",
    "data1.head()"
   ]
  },
  {
   "cell_type": "code",
   "execution_count": 13,
   "metadata": {},
   "outputs": [
    {
     "data": {
      "text/plain": [
       "Index(['Company Name', 'Job Title', 'Location', 'Job Description', 'Rating',\n",
       "       'Size', 'Industry', 'Sector', 'Founded', 'Ownership', 'Revenue',\n",
       "       'min_salary', 'max_salary', 'avg_salary', 'age', 'python', 'r', 'spark',\n",
       "       'aws', 'excel', 'genai', 'LLMs', 'sql'],\n",
       "      dtype='object')"
      ]
     },
     "execution_count": 13,
     "metadata": {},
     "output_type": "execute_result"
    }
   ],
   "source": [
    "data1.columns"
   ]
  },
  {
   "cell_type": "code",
   "execution_count": 9,
   "metadata": {},
   "outputs": [
    {
     "data": {
      "text/plain": [
       "(900, 24)"
      ]
     },
     "execution_count": 9,
     "metadata": {},
     "output_type": "execute_result"
    }
   ],
   "source": [
    "data1.shape "
   ]
  },
  {
   "cell_type": "code",
   "execution_count": 8,
   "metadata": {},
   "outputs": [
    {
     "data": {
      "text/plain": [
       "Index(['Company Name', 'Job Title', 'Location', 'Job Description', 'Rating',\n",
       "       'Size', 'Industry', 'Sector', 'Founded', 'Ownership', 'Revenue',\n",
       "       'min_salary', 'max_salary', 'avg_salary', 'age', 'python', 'r', 'spark',\n",
       "       'aws', 'excel', 'genai', 'LLMs', 'sql'],\n",
       "      dtype='object')"
      ]
     },
     "execution_count": 8,
     "metadata": {},
     "output_type": "execute_result"
    }
   ],
   "source": [
    "data.columns"
   ]
  },
  {
   "cell_type": "code",
   "execution_count": 11,
   "metadata": {},
   "outputs": [
    {
     "data": {
      "text/plain": [
       "(900, 23)"
      ]
     },
     "execution_count": 11,
     "metadata": {},
     "output_type": "execute_result"
    }
   ],
   "source": [
    "data.shape"
   ]
  },
  {
   "cell_type": "code",
   "execution_count": 35,
   "metadata": {},
   "outputs": [],
   "source": [
    "def seniority(title):\n",
    "    if 'sr' in title.lower() or 'senior' in title.lower() or 'lead' in title.lower() or 'principal' in title.lower() or 'associate' in title.lower():\n",
    "            return 'senior'\n",
    "    elif 'jr' in title.lower() or 'jr.' in title.lower():\n",
    "        return 'junior'\n",
    "    else:\n",
    "        return 'na'"
   ]
  },
  {
   "cell_type": "code",
   "execution_count": 36,
   "metadata": {},
   "outputs": [],
   "source": [
    "data1['seniority'] = data1['Job Title'].apply(seniority)"
   ]
  },
  {
   "cell_type": "code",
   "execution_count": 37,
   "metadata": {},
   "outputs": [
    {
     "data": {
      "text/plain": [
       "seniority\n",
       "na        669\n",
       "senior    228\n",
       "junior      3\n",
       "Name: count, dtype: int64"
      ]
     },
     "execution_count": 37,
     "metadata": {},
     "output_type": "execute_result"
    }
   ],
   "source": [
    "data1.seniority.value_counts()"
   ]
  },
  {
   "cell_type": "code",
   "execution_count": 34,
   "metadata": {},
   "outputs": [
    {
     "data": {
      "text/plain": [
       "Job Title\n",
       "Data Scientist                                                       259\n",
       "Senior Data Scientist                                                 56\n",
       "Machine Learning Engineer                                             32\n",
       "Lead Data Scientist                                                   14\n",
       "Sr. Data Scientist                                                    13\n",
       "Junior Data Scientist                                                  9\n",
       "Data Science Engineer                                                  9\n",
       "Principal Data Scientist                                               8\n",
       "Data Science                                                           8\n",
       "Associate Data Scientist                                               6\n",
       "Data Science Trainer                                                   5\n",
       "Data Scientist II                                                      5\n",
       "Sr Data Scientist                                                      4\n",
       "AI/ML Engineer                                                         4\n",
       "DATA SCIENTIST                                                         4\n",
       "Machine Learning Intern                                                4\n",
       "ML Engineer                                                            3\n",
       "Data Engineer                                                          3\n",
       "Data scientist                                                         3\n",
       "Deep Learning Engineer                                                 3\n",
       "Data Science Intern                                                    3\n",
       "Machine Learning                                                       2\n",
       "Data Scientist 3                                                       2\n",
       "Manager Data Science                                                   2\n",
       "Full Stack Data Scientist                                              2\n",
       "Data Scientist (Machine Learning)                                      2\n",
       "Data Scientist (Real-World Evidence & Medical Claims) - Homebased      2\n",
       "Deep Learning Scientist                                                2\n",
       "Applied Scientist                                                      2\n",
       "Data Science Lead                                                      2\n",
       "Name: count, dtype: int64"
      ]
     },
     "execution_count": 34,
     "metadata": {},
     "output_type": "execute_result"
    }
   ],
   "source": [
    "data1['Job Title'].value_counts().head(30)"
   ]
  },
  {
   "cell_type": "code",
   "execution_count": 30,
   "metadata": {},
   "outputs": [],
   "source": [
    "data1['seniority1'] = data1['Job Title'].apply(seniority)"
   ]
  },
  {
   "cell_type": "code",
   "execution_count": 31,
   "metadata": {},
   "outputs": [
    {
     "data": {
      "text/plain": [
       "seniority1\n",
       "na        669\n",
       "senior    228\n",
       "jr          3\n",
       "Name: count, dtype: int64"
      ]
     },
     "execution_count": 31,
     "metadata": {},
     "output_type": "execute_result"
    }
   ],
   "source": [
    "data1['seniority1'].value_counts()"
   ]
  },
  {
   "cell_type": "code",
   "execution_count": 41,
   "metadata": {},
   "outputs": [],
   "source": [
    "def title_simplifier(title):\n",
    "    if 'data scientist' in title.lower():\n",
    "        return 'data scientist'\n",
    "    elif 'data analyst' in title.lower():\n",
    "        return 'data analyst'\n",
    "    elif 'data engineer' in title.lower():\n",
    "        return 'data engineer'\n",
    "    elif 'analyst' in title.lower():\n",
    "        return 'analyst'\n",
    "    elif 'machine learning' in title.lower():\n",
    "        return 'mle'\n",
    "    elif 'manager' in title.lower():\n",
    "        return 'manager'\n",
    "    elif 'director' in title.lower():\n",
    "        return 'director'\n",
    "    elif 'python data scientist' in title.lower():\n",
    "        return 'python data scientist'\n",
    "    else:\n",
    "        return 'na'"
   ]
  },
  {
   "cell_type": "code",
   "execution_count": 43,
   "metadata": {},
   "outputs": [],
   "source": [
    "data1['job_simp'] = data1['Job Title'].apply(title_simplifier)"
   ]
  },
  {
   "cell_type": "code",
   "execution_count": 44,
   "metadata": {},
   "outputs": [
    {
     "data": {
      "text/plain": [
       "job_simp\n",
       "data scientist    611\n",
       "na                153\n",
       "mle                77\n",
       "data engineer      13\n",
       "manager            13\n",
       "analyst            13\n",
       "director           11\n",
       "data analyst        9\n",
       "Name: count, dtype: int64"
      ]
     },
     "execution_count": 44,
     "metadata": {},
     "output_type": "execute_result"
    }
   ],
   "source": [
    "data1['job_simp'].value_counts()"
   ]
  },
  {
   "cell_type": "code",
   "execution_count": null,
   "metadata": {},
   "outputs": [],
   "source": []
  }
 ],
 "metadata": {
  "kernelspec": {
   "display_name": "Python 3",
   "language": "python",
   "name": "python3"
  },
  "language_info": {
   "codemirror_mode": {
    "name": "ipython",
    "version": 3
   },
   "file_extension": ".py",
   "mimetype": "text/x-python",
   "name": "python",
   "nbconvert_exporter": "python",
   "pygments_lexer": "ipython3",
   "version": "3.8.19"
  },
  "orig_nbformat": 4
 },
 "nbformat": 4,
 "nbformat_minor": 2
}
