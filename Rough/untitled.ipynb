{
 "cells": [
  {
   "cell_type": "code",
   "execution_count": 1,
   "metadata": {},
   "outputs": [],
   "source": [
    "import pandas as pd\n",
    "import numpy as np"
   ]
  },
  {
   "cell_type": "code",
   "execution_count": 4,
   "metadata": {},
   "outputs": [
    {
     "data": {
      "text/html": [
       "<div>\n",
       "<style scoped>\n",
       "    .dataframe tbody tr th:only-of-type {\n",
       "        vertical-align: middle;\n",
       "    }\n",
       "\n",
       "    .dataframe tbody tr th {\n",
       "        vertical-align: top;\n",
       "    }\n",
       "\n",
       "    .dataframe thead th {\n",
       "        text-align: right;\n",
       "    }\n",
       "</style>\n",
       "<table border=\"1\" class=\"dataframe\">\n",
       "  <thead>\n",
       "    <tr style=\"text-align: right;\">\n",
       "      <th></th>\n",
       "      <th>Company Name</th>\n",
       "      <th>Job Title</th>\n",
       "      <th>Location</th>\n",
       "      <th>Job Description</th>\n",
       "      <th>Rating</th>\n",
       "      <th>Size</th>\n",
       "      <th>Industry</th>\n",
       "      <th>Sector</th>\n",
       "      <th>Founded</th>\n",
       "      <th>Ownership</th>\n",
       "      <th>...</th>\n",
       "      <th>avg_salary</th>\n",
       "      <th>age</th>\n",
       "      <th>python</th>\n",
       "      <th>r</th>\n",
       "      <th>spark</th>\n",
       "      <th>aws</th>\n",
       "      <th>excel</th>\n",
       "      <th>genai</th>\n",
       "      <th>LLMs</th>\n",
       "      <th>sql</th>\n",
       "    </tr>\n",
       "  </thead>\n",
       "  <tbody>\n",
       "    <tr>\n",
       "      <th>0</th>\n",
       "      <td>Karmaeduconsultant</td>\n",
       "      <td>Data Scientist</td>\n",
       "      <td>Karmaeduconsultant</td>\n",
       "      <td>Job Description: As a Data Scientist at our co...</td>\n",
       "      <td>4.0</td>\n",
       "      <td>1001 - 5000 Employees</td>\n",
       "      <td>Enterprise Software &amp; Network Solutions</td>\n",
       "      <td>Finance</td>\n",
       "      <td>2006.0</td>\n",
       "      <td>Company - Private</td>\n",
       "      <td>...</td>\n",
       "      <td>7</td>\n",
       "      <td>18.0</td>\n",
       "      <td>1</td>\n",
       "      <td>0</td>\n",
       "      <td>1</td>\n",
       "      <td>0</td>\n",
       "      <td>1</td>\n",
       "      <td>0</td>\n",
       "      <td>0</td>\n",
       "      <td>1</td>\n",
       "    </tr>\n",
       "    <tr>\n",
       "      <th>1</th>\n",
       "      <td>AQB Solutions Pvt Ltd</td>\n",
       "      <td>Data Scientist</td>\n",
       "      <td>Remote</td>\n",
       "      <td>Must have: Minimum Experience 5+years\\nPython ...</td>\n",
       "      <td>4.6</td>\n",
       "      <td>51 - 200 Employees</td>\n",
       "      <td>Enterprise Software &amp; Network Solutions</td>\n",
       "      <td>Information Technology</td>\n",
       "      <td>2009.0</td>\n",
       "      <td>Company - Private</td>\n",
       "      <td>...</td>\n",
       "      <td>11</td>\n",
       "      <td>15.0</td>\n",
       "      <td>1</td>\n",
       "      <td>0</td>\n",
       "      <td>0</td>\n",
       "      <td>0</td>\n",
       "      <td>0</td>\n",
       "      <td>0</td>\n",
       "      <td>0</td>\n",
       "      <td>1</td>\n",
       "    </tr>\n",
       "    <tr>\n",
       "      <th>2</th>\n",
       "      <td>Zelton Solutions</td>\n",
       "      <td>Data Scientist</td>\n",
       "      <td>Zelton Solutions</td>\n",
       "      <td>Job Description:\\nResponsibilities:\\nCollabora...</td>\n",
       "      <td>4.0</td>\n",
       "      <td>1001 - 5000 Employees</td>\n",
       "      <td>Enterprise Software &amp; Network Solutions</td>\n",
       "      <td>Management and consulting</td>\n",
       "      <td>2009.0</td>\n",
       "      <td>Company - Private</td>\n",
       "      <td>...</td>\n",
       "      <td>12</td>\n",
       "      <td>15.0</td>\n",
       "      <td>0</td>\n",
       "      <td>0</td>\n",
       "      <td>0</td>\n",
       "      <td>0</td>\n",
       "      <td>0</td>\n",
       "      <td>0</td>\n",
       "      <td>1</td>\n",
       "      <td>0</td>\n",
       "    </tr>\n",
       "    <tr>\n",
       "      <th>3</th>\n",
       "      <td>Global Employees</td>\n",
       "      <td>Python Data Scientist(Contract)</td>\n",
       "      <td>Global Employees</td>\n",
       "      <td>Job Description\\nPython Data Scientist/Analyst...</td>\n",
       "      <td>4.0</td>\n",
       "      <td>1001 - 5000 Employees</td>\n",
       "      <td>Enterprise Software &amp; Network Solutions</td>\n",
       "      <td>Finance</td>\n",
       "      <td>2009.0</td>\n",
       "      <td>Company - Private</td>\n",
       "      <td>...</td>\n",
       "      <td>25</td>\n",
       "      <td>15.0</td>\n",
       "      <td>1</td>\n",
       "      <td>0</td>\n",
       "      <td>0</td>\n",
       "      <td>0</td>\n",
       "      <td>0</td>\n",
       "      <td>0</td>\n",
       "      <td>0</td>\n",
       "      <td>0</td>\n",
       "    </tr>\n",
       "    <tr>\n",
       "      <th>4</th>\n",
       "      <td>Saaki Argus &amp; Averil Consulting</td>\n",
       "      <td>Junior Data Scientist</td>\n",
       "      <td>Chennai</td>\n",
       "      <td>About the Role:\\nWe are looking for a Data Sci...</td>\n",
       "      <td>4.1</td>\n",
       "      <td>51 - 200 Employees</td>\n",
       "      <td>HR Consulting</td>\n",
       "      <td>Human resources and staffing</td>\n",
       "      <td>1998.0</td>\n",
       "      <td>Private Practice / Firm</td>\n",
       "      <td>...</td>\n",
       "      <td>6</td>\n",
       "      <td>26.0</td>\n",
       "      <td>0</td>\n",
       "      <td>0</td>\n",
       "      <td>0</td>\n",
       "      <td>0</td>\n",
       "      <td>0</td>\n",
       "      <td>0</td>\n",
       "      <td>0</td>\n",
       "      <td>0</td>\n",
       "    </tr>\n",
       "  </tbody>\n",
       "</table>\n",
       "<p>5 rows × 23 columns</p>\n",
       "</div>"
      ],
      "text/plain": [
       "                      Company Name                        Job Title  \\\n",
       "0               Karmaeduconsultant                   Data Scientist   \n",
       "1            AQB Solutions Pvt Ltd                   Data Scientist   \n",
       "2                 Zelton Solutions                   Data Scientist   \n",
       "3                 Global Employees  Python Data Scientist(Contract)   \n",
       "4  Saaki Argus & Averil Consulting            Junior Data Scientist   \n",
       "\n",
       "             Location                                    Job Description  \\\n",
       "0  Karmaeduconsultant  Job Description: As a Data Scientist at our co...   \n",
       "1              Remote  Must have: Minimum Experience 5+years\\nPython ...   \n",
       "2    Zelton Solutions  Job Description:\\nResponsibilities:\\nCollabora...   \n",
       "3    Global Employees  Job Description\\nPython Data Scientist/Analyst...   \n",
       "4             Chennai  About the Role:\\nWe are looking for a Data Sci...   \n",
       "\n",
       "   Rating                   Size                                 Industry  \\\n",
       "0     4.0  1001 - 5000 Employees  Enterprise Software & Network Solutions   \n",
       "1     4.6     51 - 200 Employees  Enterprise Software & Network Solutions   \n",
       "2     4.0  1001 - 5000 Employees  Enterprise Software & Network Solutions   \n",
       "3     4.0  1001 - 5000 Employees  Enterprise Software & Network Solutions   \n",
       "4     4.1     51 - 200 Employees                            HR Consulting   \n",
       "\n",
       "                         Sector  Founded                Ownership  ...  \\\n",
       "0                       Finance   2006.0        Company - Private  ...   \n",
       "1        Information Technology   2009.0        Company - Private  ...   \n",
       "2     Management and consulting   2009.0        Company - Private  ...   \n",
       "3                       Finance   2009.0        Company - Private  ...   \n",
       "4  Human resources and staffing   1998.0  Private Practice / Firm  ...   \n",
       "\n",
       "  avg_salary   age  python  r  spark  aws  excel  genai  LLMs  sql  \n",
       "0          7  18.0       1  0      1    0      1      0     0    1  \n",
       "1         11  15.0       1  0      0    0      0      0     0    1  \n",
       "2         12  15.0       0  0      0    0      0      0     1    0  \n",
       "3         25  15.0       1  0      0    0      0      0     0    0  \n",
       "4          6  26.0       0  0      0    0      0      0     0    0  \n",
       "\n",
       "[5 rows x 23 columns]"
      ]
     },
     "execution_count": 4,
     "metadata": {},
     "output_type": "execute_result"
    }
   ],
   "source": [
    "data = pd.read_csv(r'F:\\Data Science\\Data-Science-Salary-Project\\artifacts\\data_cleaned.csv')\n",
    "data.head()"
   ]
  },
  {
   "cell_type": "code",
   "execution_count": 5,
   "metadata": {},
   "outputs": [
    {
     "data": {
      "text/plain": [
       "Index(['Company Name', 'Job Title', 'Location', 'Job Description', 'Rating',\n",
       "       'Size', 'Industry', 'Sector', 'Founded', 'Ownership', 'Revenue',\n",
       "       'min_salary', 'max_salary', 'avg_salary', 'age', 'python', 'r', 'spark',\n",
       "       'aws', 'excel', 'genai', 'LLMs', 'sql'],\n",
       "      dtype='object')"
      ]
     },
     "execution_count": 5,
     "metadata": {},
     "output_type": "execute_result"
    }
   ],
   "source": [
    "data.columns"
   ]
  },
  {
   "cell_type": "code",
   "execution_count": 12,
   "metadata": {},
   "outputs": [
    {
     "data": {
      "text/html": [
       "<div>\n",
       "<style scoped>\n",
       "    .dataframe tbody tr th:only-of-type {\n",
       "        vertical-align: middle;\n",
       "    }\n",
       "\n",
       "    .dataframe tbody tr th {\n",
       "        vertical-align: top;\n",
       "    }\n",
       "\n",
       "    .dataframe thead th {\n",
       "        text-align: right;\n",
       "    }\n",
       "</style>\n",
       "<table border=\"1\" class=\"dataframe\">\n",
       "  <thead>\n",
       "    <tr style=\"text-align: right;\">\n",
       "      <th></th>\n",
       "      <th>Company Name</th>\n",
       "      <th>Job Title</th>\n",
       "      <th>Location</th>\n",
       "      <th>Job Description</th>\n",
       "      <th>Rating</th>\n",
       "      <th>Size</th>\n",
       "      <th>Industry</th>\n",
       "      <th>Sector</th>\n",
       "      <th>Founded</th>\n",
       "      <th>Ownership</th>\n",
       "      <th>...</th>\n",
       "      <th>avg_salary</th>\n",
       "      <th>age</th>\n",
       "      <th>python</th>\n",
       "      <th>r</th>\n",
       "      <th>spark</th>\n",
       "      <th>aws</th>\n",
       "      <th>excel</th>\n",
       "      <th>genai</th>\n",
       "      <th>LLMs</th>\n",
       "      <th>sql</th>\n",
       "    </tr>\n",
       "  </thead>\n",
       "  <tbody>\n",
       "    <tr>\n",
       "      <th>0</th>\n",
       "      <td>Karmaeduconsultant</td>\n",
       "      <td>Data Scientist</td>\n",
       "      <td>Karmaeduconsultant</td>\n",
       "      <td>Job Description: As a Data Scientist at our co...</td>\n",
       "      <td>4.0</td>\n",
       "      <td>1001 - 5000 Employees</td>\n",
       "      <td>Enterprise Software &amp; Network Solutions</td>\n",
       "      <td>Finance</td>\n",
       "      <td>2006.0</td>\n",
       "      <td>Company - Private</td>\n",
       "      <td>...</td>\n",
       "      <td>7</td>\n",
       "      <td>18.0</td>\n",
       "      <td>1</td>\n",
       "      <td>0</td>\n",
       "      <td>1</td>\n",
       "      <td>0</td>\n",
       "      <td>1</td>\n",
       "      <td>0</td>\n",
       "      <td>0</td>\n",
       "      <td>1</td>\n",
       "    </tr>\n",
       "    <tr>\n",
       "      <th>1</th>\n",
       "      <td>AQB Solutions Pvt Ltd</td>\n",
       "      <td>Data Scientist</td>\n",
       "      <td>Remote</td>\n",
       "      <td>Must have: Minimum Experience 5+years\\nPython ...</td>\n",
       "      <td>4.6</td>\n",
       "      <td>51 - 200 Employees</td>\n",
       "      <td>Enterprise Software &amp; Network Solutions</td>\n",
       "      <td>Information Technology</td>\n",
       "      <td>2009.0</td>\n",
       "      <td>Company - Private</td>\n",
       "      <td>...</td>\n",
       "      <td>11</td>\n",
       "      <td>15.0</td>\n",
       "      <td>1</td>\n",
       "      <td>0</td>\n",
       "      <td>0</td>\n",
       "      <td>0</td>\n",
       "      <td>0</td>\n",
       "      <td>0</td>\n",
       "      <td>0</td>\n",
       "      <td>1</td>\n",
       "    </tr>\n",
       "    <tr>\n",
       "      <th>2</th>\n",
       "      <td>Zelton Solutions</td>\n",
       "      <td>Data Scientist</td>\n",
       "      <td>Zelton Solutions</td>\n",
       "      <td>Job Description:\\nResponsibilities:\\nCollabora...</td>\n",
       "      <td>4.0</td>\n",
       "      <td>1001 - 5000 Employees</td>\n",
       "      <td>Enterprise Software &amp; Network Solutions</td>\n",
       "      <td>Management and consulting</td>\n",
       "      <td>2009.0</td>\n",
       "      <td>Company - Private</td>\n",
       "      <td>...</td>\n",
       "      <td>12</td>\n",
       "      <td>15.0</td>\n",
       "      <td>0</td>\n",
       "      <td>0</td>\n",
       "      <td>0</td>\n",
       "      <td>0</td>\n",
       "      <td>0</td>\n",
       "      <td>0</td>\n",
       "      <td>1</td>\n",
       "      <td>0</td>\n",
       "    </tr>\n",
       "    <tr>\n",
       "      <th>3</th>\n",
       "      <td>Global Employees</td>\n",
       "      <td>Python Data Scientist(Contract)</td>\n",
       "      <td>Global Employees</td>\n",
       "      <td>Job Description\\nPython Data Scientist/Analyst...</td>\n",
       "      <td>4.0</td>\n",
       "      <td>1001 - 5000 Employees</td>\n",
       "      <td>Enterprise Software &amp; Network Solutions</td>\n",
       "      <td>Finance</td>\n",
       "      <td>2009.0</td>\n",
       "      <td>Company - Private</td>\n",
       "      <td>...</td>\n",
       "      <td>25</td>\n",
       "      <td>15.0</td>\n",
       "      <td>1</td>\n",
       "      <td>0</td>\n",
       "      <td>0</td>\n",
       "      <td>0</td>\n",
       "      <td>0</td>\n",
       "      <td>0</td>\n",
       "      <td>0</td>\n",
       "      <td>0</td>\n",
       "    </tr>\n",
       "    <tr>\n",
       "      <th>4</th>\n",
       "      <td>Saaki Argus &amp; Averil Consulting</td>\n",
       "      <td>Junior Data Scientist</td>\n",
       "      <td>Chennai</td>\n",
       "      <td>About the Role:\\nWe are looking for a Data Sci...</td>\n",
       "      <td>4.1</td>\n",
       "      <td>51 - 200 Employees</td>\n",
       "      <td>HR Consulting</td>\n",
       "      <td>Human resources and staffing</td>\n",
       "      <td>1998.0</td>\n",
       "      <td>Private Practice / Firm</td>\n",
       "      <td>...</td>\n",
       "      <td>6</td>\n",
       "      <td>26.0</td>\n",
       "      <td>0</td>\n",
       "      <td>0</td>\n",
       "      <td>0</td>\n",
       "      <td>0</td>\n",
       "      <td>0</td>\n",
       "      <td>0</td>\n",
       "      <td>0</td>\n",
       "      <td>0</td>\n",
       "    </tr>\n",
       "  </tbody>\n",
       "</table>\n",
       "<p>5 rows × 23 columns</p>\n",
       "</div>"
      ],
      "text/plain": [
       "                      Company Name                        Job Title  \\\n",
       "0               Karmaeduconsultant                   Data Scientist   \n",
       "1            AQB Solutions Pvt Ltd                   Data Scientist   \n",
       "2                 Zelton Solutions                   Data Scientist   \n",
       "3                 Global Employees  Python Data Scientist(Contract)   \n",
       "4  Saaki Argus & Averil Consulting            Junior Data Scientist   \n",
       "\n",
       "             Location                                    Job Description  \\\n",
       "0  Karmaeduconsultant  Job Description: As a Data Scientist at our co...   \n",
       "1              Remote  Must have: Minimum Experience 5+years\\nPython ...   \n",
       "2    Zelton Solutions  Job Description:\\nResponsibilities:\\nCollabora...   \n",
       "3    Global Employees  Job Description\\nPython Data Scientist/Analyst...   \n",
       "4             Chennai  About the Role:\\nWe are looking for a Data Sci...   \n",
       "\n",
       "   Rating                   Size                                 Industry  \\\n",
       "0     4.0  1001 - 5000 Employees  Enterprise Software & Network Solutions   \n",
       "1     4.6     51 - 200 Employees  Enterprise Software & Network Solutions   \n",
       "2     4.0  1001 - 5000 Employees  Enterprise Software & Network Solutions   \n",
       "3     4.0  1001 - 5000 Employees  Enterprise Software & Network Solutions   \n",
       "4     4.1     51 - 200 Employees                            HR Consulting   \n",
       "\n",
       "                         Sector  Founded                Ownership  ...  \\\n",
       "0                       Finance   2006.0        Company - Private  ...   \n",
       "1        Information Technology   2009.0        Company - Private  ...   \n",
       "2     Management and consulting   2009.0        Company - Private  ...   \n",
       "3                       Finance   2009.0        Company - Private  ...   \n",
       "4  Human resources and staffing   1998.0  Private Practice / Firm  ...   \n",
       "\n",
       "  avg_salary   age  python  r  spark  aws  excel  genai  LLMs  sql  \n",
       "0          7  18.0       1  0      1    0      1      0     0    1  \n",
       "1         11  15.0       1  0      0    0      0      0     0    1  \n",
       "2         12  15.0       0  0      0    0      0      0     1    0  \n",
       "3         25  15.0       1  0      0    0      0      0     0    0  \n",
       "4          6  26.0       0  0      0    0      0      0     0    0  \n",
       "\n",
       "[5 rows x 23 columns]"
      ]
     },
     "execution_count": 12,
     "metadata": {},
     "output_type": "execute_result"
    }
   ],
   "source": [
    "data1 = pd.read_csv(r'F:\\Data Science\\Data-Science-Salary-Project\\data\\data_cleaned.csv')\n",
    "data1.head()"
   ]
  },
  {
   "cell_type": "code",
   "execution_count": 13,
   "metadata": {},
   "outputs": [
    {
     "data": {
      "text/plain": [
       "Index(['Company Name', 'Job Title', 'Location', 'Job Description', 'Rating',\n",
       "       'Size', 'Industry', 'Sector', 'Founded', 'Ownership', 'Revenue',\n",
       "       'min_salary', 'max_salary', 'avg_salary', 'age', 'python', 'r', 'spark',\n",
       "       'aws', 'excel', 'genai', 'LLMs', 'sql'],\n",
       "      dtype='object')"
      ]
     },
     "execution_count": 13,
     "metadata": {},
     "output_type": "execute_result"
    }
   ],
   "source": [
    "data1.columns"
   ]
  },
  {
   "cell_type": "code",
   "execution_count": 9,
   "metadata": {},
   "outputs": [
    {
     "data": {
      "text/plain": [
       "(900, 24)"
      ]
     },
     "execution_count": 9,
     "metadata": {},
     "output_type": "execute_result"
    }
   ],
   "source": [
    "data1.shape "
   ]
  },
  {
   "cell_type": "code",
   "execution_count": 8,
   "metadata": {},
   "outputs": [
    {
     "data": {
      "text/plain": [
       "Index(['Company Name', 'Job Title', 'Location', 'Job Description', 'Rating',\n",
       "       'Size', 'Industry', 'Sector', 'Founded', 'Ownership', 'Revenue',\n",
       "       'min_salary', 'max_salary', 'avg_salary', 'age', 'python', 'r', 'spark',\n",
       "       'aws', 'excel', 'genai', 'LLMs', 'sql'],\n",
       "      dtype='object')"
      ]
     },
     "execution_count": 8,
     "metadata": {},
     "output_type": "execute_result"
    }
   ],
   "source": [
    "data.columns"
   ]
  },
  {
   "cell_type": "code",
   "execution_count": 11,
   "metadata": {},
   "outputs": [
    {
     "data": {
      "text/plain": [
       "(900, 23)"
      ]
     },
     "execution_count": 11,
     "metadata": {},
     "output_type": "execute_result"
    }
   ],
   "source": [
    "data.shape"
   ]
  },
  {
   "cell_type": "code",
   "execution_count": 35,
   "metadata": {},
   "outputs": [],
   "source": [
    "def seniority(title):\n",
    "    if 'sr' in title.lower() or 'senior' in title.lower() or 'lead' in title.lower() or 'principal' in title.lower() or 'associate' in title.lower():\n",
    "            return 'senior'\n",
    "    elif 'jr' in title.lower() or 'jr.' in title.lower():\n",
    "        return 'junior'\n",
    "    else:\n",
    "        return 'na'"
   ]
  },
  {
   "cell_type": "code",
   "execution_count": 36,
   "metadata": {},
   "outputs": [],
   "source": [
    "data1['seniority'] = data1['Job Title'].apply(seniority)"
   ]
  },
  {
   "cell_type": "code",
   "execution_count": 37,
   "metadata": {},
   "outputs": [
    {
     "data": {
      "text/plain": [
       "seniority\n",
       "na        669\n",
       "senior    228\n",
       "junior      3\n",
       "Name: count, dtype: int64"
      ]
     },
     "execution_count": 37,
     "metadata": {},
     "output_type": "execute_result"
    }
   ],
   "source": [
    "data1.seniority.value_counts()"
   ]
  },
  {
   "cell_type": "code",
   "execution_count": 34,
   "metadata": {},
   "outputs": [
    {
     "data": {
      "text/plain": [
       "Job Title\n",
       "Data Scientist                                                       259\n",
       "Senior Data Scientist                                                 56\n",
       "Machine Learning Engineer                                             32\n",
       "Lead Data Scientist                                                   14\n",
       "Sr. Data Scientist                                                    13\n",
       "Junior Data Scientist                                                  9\n",
       "Data Science Engineer                                                  9\n",
       "Principal Data Scientist                                               8\n",
       "Data Science                                                           8\n",
       "Associate Data Scientist                                               6\n",
       "Data Science Trainer                                                   5\n",
       "Data Scientist II                                                      5\n",
       "Sr Data Scientist                                                      4\n",
       "AI/ML Engineer                                                         4\n",
       "DATA SCIENTIST                                                         4\n",
       "Machine Learning Intern                                                4\n",
       "ML Engineer                                                            3\n",
       "Data Engineer                                                          3\n",
       "Data scientist                                                         3\n",
       "Deep Learning Engineer                                                 3\n",
       "Data Science Intern                                                    3\n",
       "Machine Learning                                                       2\n",
       "Data Scientist 3                                                       2\n",
       "Manager Data Science                                                   2\n",
       "Full Stack Data Scientist                                              2\n",
       "Data Scientist (Machine Learning)                                      2\n",
       "Data Scientist (Real-World Evidence & Medical Claims) - Homebased      2\n",
       "Deep Learning Scientist                                                2\n",
       "Applied Scientist                                                      2\n",
       "Data Science Lead                                                      2\n",
       "Name: count, dtype: int64"
      ]
     },
     "execution_count": 34,
     "metadata": {},
     "output_type": "execute_result"
    }
   ],
   "source": [
    "data1['Job Title'].value_counts().head(30)"
   ]
  },
  {
   "cell_type": "code",
   "execution_count": 30,
   "metadata": {},
   "outputs": [],
   "source": [
    "data1['seniority1'] = data1['Job Title'].apply(seniority)"
   ]
  },
  {
   "cell_type": "code",
   "execution_count": 31,
   "metadata": {},
   "outputs": [
    {
     "data": {
      "text/plain": [
       "seniority1\n",
       "na        669\n",
       "senior    228\n",
       "jr          3\n",
       "Name: count, dtype: int64"
      ]
     },
     "execution_count": 31,
     "metadata": {},
     "output_type": "execute_result"
    }
   ],
   "source": [
    "data1['seniority1'].value_counts()"
   ]
  },
  {
   "cell_type": "code",
   "execution_count": 41,
   "metadata": {},
   "outputs": [],
   "source": [
    "def title_simplifier(title):\n",
    "    if 'data scientist' in title.lower():\n",
    "        return 'data scientist'\n",
    "    elif 'data analyst' in title.lower():\n",
    "        return 'data analyst'\n",
    "    elif 'data engineer' in title.lower():\n",
    "        return 'data engineer'\n",
    "    elif 'analyst' in title.lower():\n",
    "        return 'analyst'\n",
    "    elif 'machine learning' in title.lower():\n",
    "        return 'mle'\n",
    "    elif 'manager' in title.lower():\n",
    "        return 'manager'\n",
    "    elif 'director' in title.lower():\n",
    "        return 'director'\n",
    "    elif 'python data scientist' in title.lower():\n",
    "        return 'python data scientist'\n",
    "    else:\n",
    "        return 'na'"
   ]
  },
  {
   "cell_type": "code",
   "execution_count": 43,
   "metadata": {},
   "outputs": [],
   "source": [
    "data1['job_simp'] = data1['Job Title'].apply(title_simplifier)"
   ]
  },
  {
   "cell_type": "code",
   "execution_count": 44,
   "metadata": {},
   "outputs": [
    {
     "data": {
      "text/plain": [
       "job_simp\n",
       "data scientist    611\n",
       "na                153\n",
       "mle                77\n",
       "data engineer      13\n",
       "manager            13\n",
       "analyst            13\n",
       "director           11\n",
       "data analyst        9\n",
       "Name: count, dtype: int64"
      ]
     },
     "execution_count": 44,
     "metadata": {},
     "output_type": "execute_result"
    }
   ],
   "source": [
    "data1['job_simp'].value_counts()"
   ]
  },
  {
   "cell_type": "code",
   "execution_count": 1,
   "metadata": {},
   "outputs": [
    {
     "name": "stdout",
     "output_type": "stream",
     "text": [
      "   Rating                   Size                                 Industry  \\\n",
      "0     4.0  1001 - 5000 Employees  Enterprise Software & Network Solutions   \n",
      "1     4.6     51 - 200 Employees  Enterprise Software & Network Solutions   \n",
      "2     4.0  1001 - 5000 Employees  Enterprise Software & Network Solutions   \n",
      "3     4.0  1001 - 5000 Employees  Enterprise Software & Network Solutions   \n",
      "4     4.1     51 - 200 Employees                            HR Consulting   \n",
      "\n",
      "                         Sector                Ownership          Revenue  \\\n",
      "0                       Finance        Company - Private  10000+ million    \n",
      "1        Information Technology        Company - Private  10000+ million    \n",
      "2     Management and consulting        Company - Private  10000+ million    \n",
      "3                       Finance        Company - Private  10000+ million    \n",
      "4  Human resources and staffing  Private Practice / Firm  10000+ million    \n",
      "\n",
      "   min_salary  max_salary  avg_salary   age  python  spark  aws  excel  LLMs  \\\n",
      "0           4          10           7  18.0       1      1    0      1     0   \n",
      "1          10          12          11  15.0       1      0    0      0     0   \n",
      "2           5          19          12  15.0       0      0    0      0     1   \n",
      "3          20          30          25  15.0       1      0    0      0     0   \n",
      "4           3           9           6  26.0       0      0    0      0     0   \n",
      "\n",
      "   sql        Job_simp seniority  \n",
      "0    1  data scientist        na  \n",
      "1    1  data scientist        na  \n",
      "2    0  data scientist        na  \n",
      "3    0  data scientist        na  \n",
      "4    0  data scientist        na  \n"
     ]
    }
   ],
   "source": [
    "import pandas as pd\n",
    "import numpy as np\n",
    "\n",
    "df = pd.read_csv('../artifacts/data_eda.csv')\n",
    "print(df.head())"
   ]
  },
  {
   "cell_type": "code",
   "execution_count": 2,
   "metadata": {},
   "outputs": [
    {
     "data": {
      "text/html": [
       "<div>\n",
       "<style scoped>\n",
       "    .dataframe tbody tr th:only-of-type {\n",
       "        vertical-align: middle;\n",
       "    }\n",
       "\n",
       "    .dataframe tbody tr th {\n",
       "        vertical-align: top;\n",
       "    }\n",
       "\n",
       "    .dataframe thead th {\n",
       "        text-align: right;\n",
       "    }\n",
       "</style>\n",
       "<table border=\"1\" class=\"dataframe\">\n",
       "  <thead>\n",
       "    <tr style=\"text-align: right;\">\n",
       "      <th></th>\n",
       "      <th>Rating</th>\n",
       "      <th>Size</th>\n",
       "      <th>Industry</th>\n",
       "      <th>Sector</th>\n",
       "      <th>Ownership</th>\n",
       "      <th>Revenue</th>\n",
       "      <th>min_salary</th>\n",
       "      <th>max_salary</th>\n",
       "      <th>avg_salary</th>\n",
       "      <th>age</th>\n",
       "      <th>python</th>\n",
       "      <th>spark</th>\n",
       "      <th>aws</th>\n",
       "      <th>excel</th>\n",
       "      <th>LLMs</th>\n",
       "      <th>sql</th>\n",
       "      <th>Job_simp</th>\n",
       "      <th>seniority</th>\n",
       "    </tr>\n",
       "  </thead>\n",
       "  <tbody>\n",
       "    <tr>\n",
       "      <th>0</th>\n",
       "      <td>4.0</td>\n",
       "      <td>1001 - 5000 Employees</td>\n",
       "      <td>Enterprise Software &amp; Network Solutions</td>\n",
       "      <td>Finance</td>\n",
       "      <td>Company - Private</td>\n",
       "      <td>10000+ million</td>\n",
       "      <td>4</td>\n",
       "      <td>10</td>\n",
       "      <td>7</td>\n",
       "      <td>18.0</td>\n",
       "      <td>1</td>\n",
       "      <td>1</td>\n",
       "      <td>0</td>\n",
       "      <td>1</td>\n",
       "      <td>0</td>\n",
       "      <td>1</td>\n",
       "      <td>data scientist</td>\n",
       "      <td>na</td>\n",
       "    </tr>\n",
       "    <tr>\n",
       "      <th>1</th>\n",
       "      <td>4.6</td>\n",
       "      <td>51 - 200 Employees</td>\n",
       "      <td>Enterprise Software &amp; Network Solutions</td>\n",
       "      <td>Information Technology</td>\n",
       "      <td>Company - Private</td>\n",
       "      <td>10000+ million</td>\n",
       "      <td>10</td>\n",
       "      <td>12</td>\n",
       "      <td>11</td>\n",
       "      <td>15.0</td>\n",
       "      <td>1</td>\n",
       "      <td>0</td>\n",
       "      <td>0</td>\n",
       "      <td>0</td>\n",
       "      <td>0</td>\n",
       "      <td>1</td>\n",
       "      <td>data scientist</td>\n",
       "      <td>na</td>\n",
       "    </tr>\n",
       "    <tr>\n",
       "      <th>2</th>\n",
       "      <td>4.0</td>\n",
       "      <td>1001 - 5000 Employees</td>\n",
       "      <td>Enterprise Software &amp; Network Solutions</td>\n",
       "      <td>Management and consulting</td>\n",
       "      <td>Company - Private</td>\n",
       "      <td>10000+ million</td>\n",
       "      <td>5</td>\n",
       "      <td>19</td>\n",
       "      <td>12</td>\n",
       "      <td>15.0</td>\n",
       "      <td>0</td>\n",
       "      <td>0</td>\n",
       "      <td>0</td>\n",
       "      <td>0</td>\n",
       "      <td>1</td>\n",
       "      <td>0</td>\n",
       "      <td>data scientist</td>\n",
       "      <td>na</td>\n",
       "    </tr>\n",
       "    <tr>\n",
       "      <th>3</th>\n",
       "      <td>4.0</td>\n",
       "      <td>1001 - 5000 Employees</td>\n",
       "      <td>Enterprise Software &amp; Network Solutions</td>\n",
       "      <td>Finance</td>\n",
       "      <td>Company - Private</td>\n",
       "      <td>10000+ million</td>\n",
       "      <td>20</td>\n",
       "      <td>30</td>\n",
       "      <td>25</td>\n",
       "      <td>15.0</td>\n",
       "      <td>1</td>\n",
       "      <td>0</td>\n",
       "      <td>0</td>\n",
       "      <td>0</td>\n",
       "      <td>0</td>\n",
       "      <td>0</td>\n",
       "      <td>data scientist</td>\n",
       "      <td>na</td>\n",
       "    </tr>\n",
       "    <tr>\n",
       "      <th>4</th>\n",
       "      <td>4.1</td>\n",
       "      <td>51 - 200 Employees</td>\n",
       "      <td>HR Consulting</td>\n",
       "      <td>Human resources and staffing</td>\n",
       "      <td>Private Practice / Firm</td>\n",
       "      <td>10000+ million</td>\n",
       "      <td>3</td>\n",
       "      <td>9</td>\n",
       "      <td>6</td>\n",
       "      <td>26.0</td>\n",
       "      <td>0</td>\n",
       "      <td>0</td>\n",
       "      <td>0</td>\n",
       "      <td>0</td>\n",
       "      <td>0</td>\n",
       "      <td>0</td>\n",
       "      <td>data scientist</td>\n",
       "      <td>na</td>\n",
       "    </tr>\n",
       "    <tr>\n",
       "      <th>...</th>\n",
       "      <td>...</td>\n",
       "      <td>...</td>\n",
       "      <td>...</td>\n",
       "      <td>...</td>\n",
       "      <td>...</td>\n",
       "      <td>...</td>\n",
       "      <td>...</td>\n",
       "      <td>...</td>\n",
       "      <td>...</td>\n",
       "      <td>...</td>\n",
       "      <td>...</td>\n",
       "      <td>...</td>\n",
       "      <td>...</td>\n",
       "      <td>...</td>\n",
       "      <td>...</td>\n",
       "      <td>...</td>\n",
       "      <td>...</td>\n",
       "      <td>...</td>\n",
       "    </tr>\n",
       "    <tr>\n",
       "      <th>769</th>\n",
       "      <td>3.9</td>\n",
       "      <td>10000+ Employees</td>\n",
       "      <td>Machinery Manufacturing</td>\n",
       "      <td>Manufacturing</td>\n",
       "      <td>Company - Public</td>\n",
       "      <td>2000 - 5000 million</td>\n",
       "      <td>6</td>\n",
       "      <td>7</td>\n",
       "      <td>6</td>\n",
       "      <td>58.0</td>\n",
       "      <td>0</td>\n",
       "      <td>0</td>\n",
       "      <td>0</td>\n",
       "      <td>1</td>\n",
       "      <td>0</td>\n",
       "      <td>0</td>\n",
       "      <td>mle</td>\n",
       "      <td>na</td>\n",
       "    </tr>\n",
       "    <tr>\n",
       "      <th>770</th>\n",
       "      <td>4.6</td>\n",
       "      <td>1 - 50 Employees</td>\n",
       "      <td>Enterprise Software &amp; Network Solutions</td>\n",
       "      <td>Finance</td>\n",
       "      <td>Company - Private</td>\n",
       "      <td>100 - 500 million</td>\n",
       "      <td>3</td>\n",
       "      <td>8</td>\n",
       "      <td>5</td>\n",
       "      <td>58.0</td>\n",
       "      <td>0</td>\n",
       "      <td>0</td>\n",
       "      <td>0</td>\n",
       "      <td>0</td>\n",
       "      <td>0</td>\n",
       "      <td>0</td>\n",
       "      <td>na</td>\n",
       "      <td>na</td>\n",
       "    </tr>\n",
       "    <tr>\n",
       "      <th>771</th>\n",
       "      <td>3.5</td>\n",
       "      <td>1001 - 5000 Employees</td>\n",
       "      <td>Biotech &amp; Pharmaceuticals</td>\n",
       "      <td>Pharmaceutical and biotechnology</td>\n",
       "      <td>Subsidiary or Business Segment</td>\n",
       "      <td>2000 - 5000 million</td>\n",
       "      <td>7</td>\n",
       "      <td>9</td>\n",
       "      <td>8</td>\n",
       "      <td>89.0</td>\n",
       "      <td>0</td>\n",
       "      <td>0</td>\n",
       "      <td>0</td>\n",
       "      <td>1</td>\n",
       "      <td>0</td>\n",
       "      <td>0</td>\n",
       "      <td>data engineer</td>\n",
       "      <td>na</td>\n",
       "    </tr>\n",
       "    <tr>\n",
       "      <th>772</th>\n",
       "      <td>4.3</td>\n",
       "      <td>10000+ Employees</td>\n",
       "      <td>Computer Hardware Development</td>\n",
       "      <td>Information Technology</td>\n",
       "      <td>Company - Public</td>\n",
       "      <td>10000+ million</td>\n",
       "      <td>4</td>\n",
       "      <td>6</td>\n",
       "      <td>5</td>\n",
       "      <td>49.0</td>\n",
       "      <td>0</td>\n",
       "      <td>0</td>\n",
       "      <td>1</td>\n",
       "      <td>0</td>\n",
       "      <td>0</td>\n",
       "      <td>0</td>\n",
       "      <td>na</td>\n",
       "      <td>na</td>\n",
       "    </tr>\n",
       "    <tr>\n",
       "      <th>773</th>\n",
       "      <td>3.9</td>\n",
       "      <td>10000+ Employees</td>\n",
       "      <td>Internet &amp; Web Services</td>\n",
       "      <td>Information Technology</td>\n",
       "      <td>Company - Public</td>\n",
       "      <td>10000+ million</td>\n",
       "      <td>6</td>\n",
       "      <td>8</td>\n",
       "      <td>7</td>\n",
       "      <td>15.0</td>\n",
       "      <td>0</td>\n",
       "      <td>0</td>\n",
       "      <td>0</td>\n",
       "      <td>0</td>\n",
       "      <td>0</td>\n",
       "      <td>0</td>\n",
       "      <td>data scientist</td>\n",
       "      <td>senior</td>\n",
       "    </tr>\n",
       "  </tbody>\n",
       "</table>\n",
       "<p>774 rows × 18 columns</p>\n",
       "</div>"
      ],
      "text/plain": [
       "     Rating                   Size                                 Industry  \\\n",
       "0       4.0  1001 - 5000 Employees  Enterprise Software & Network Solutions   \n",
       "1       4.6     51 - 200 Employees  Enterprise Software & Network Solutions   \n",
       "2       4.0  1001 - 5000 Employees  Enterprise Software & Network Solutions   \n",
       "3       4.0  1001 - 5000 Employees  Enterprise Software & Network Solutions   \n",
       "4       4.1     51 - 200 Employees                            HR Consulting   \n",
       "..      ...                    ...                                      ...   \n",
       "769     3.9       10000+ Employees                  Machinery Manufacturing   \n",
       "770     4.6       1 - 50 Employees  Enterprise Software & Network Solutions   \n",
       "771     3.5  1001 - 5000 Employees                Biotech & Pharmaceuticals   \n",
       "772     4.3       10000+ Employees            Computer Hardware Development   \n",
       "773     3.9       10000+ Employees                  Internet & Web Services   \n",
       "\n",
       "                               Sector                       Ownership  \\\n",
       "0                             Finance               Company - Private   \n",
       "1              Information Technology               Company - Private   \n",
       "2           Management and consulting               Company - Private   \n",
       "3                             Finance               Company - Private   \n",
       "4        Human resources and staffing         Private Practice / Firm   \n",
       "..                                ...                             ...   \n",
       "769                     Manufacturing                Company - Public   \n",
       "770                           Finance               Company - Private   \n",
       "771  Pharmaceutical and biotechnology  Subsidiary or Business Segment   \n",
       "772            Information Technology                Company - Public   \n",
       "773            Information Technology                Company - Public   \n",
       "\n",
       "                  Revenue  min_salary  max_salary  avg_salary   age  python  \\\n",
       "0         10000+ million            4          10           7  18.0       1   \n",
       "1         10000+ million           10          12          11  15.0       1   \n",
       "2         10000+ million            5          19          12  15.0       0   \n",
       "3         10000+ million           20          30          25  15.0       1   \n",
       "4         10000+ million            3           9           6  26.0       0   \n",
       "..                    ...         ...         ...         ...   ...     ...   \n",
       "769  2000 - 5000 million            6           7           6  58.0       0   \n",
       "770    100 - 500 million            3           8           5  58.0       0   \n",
       "771  2000 - 5000 million            7           9           8  89.0       0   \n",
       "772       10000+ million            4           6           5  49.0       0   \n",
       "773       10000+ million            6           8           7  15.0       0   \n",
       "\n",
       "     spark  aws  excel  LLMs  sql        Job_simp seniority  \n",
       "0        1    0      1     0    1  data scientist        na  \n",
       "1        0    0      0     0    1  data scientist        na  \n",
       "2        0    0      0     1    0  data scientist        na  \n",
       "3        0    0      0     0    0  data scientist        na  \n",
       "4        0    0      0     0    0  data scientist        na  \n",
       "..     ...  ...    ...   ...  ...             ...       ...  \n",
       "769      0    0      1     0    0             mle        na  \n",
       "770      0    0      0     0    0              na        na  \n",
       "771      0    0      1     0    0   data engineer        na  \n",
       "772      0    1      0     0    0              na        na  \n",
       "773      0    0      0     0    0  data scientist    senior  \n",
       "\n",
       "[774 rows x 18 columns]"
      ]
     },
     "execution_count": 2,
     "metadata": {},
     "output_type": "execute_result"
    }
   ],
   "source": [
    "df"
   ]
  },
  {
   "cell_type": "code",
   "execution_count": 3,
   "metadata": {},
   "outputs": [
    {
     "data": {
      "text/plain": [
       "Rating\n",
       "4.0    287\n",
       "4.1     87\n",
       "3.9     56\n",
       "3.7     52\n",
       "3.8     48\n",
       "4.2     45\n",
       "4.3     33\n",
       "3.6     27\n",
       "4.4     21\n",
       "3.4     19\n",
       "3.5     19\n",
       "4.6     14\n",
       "4.5     13\n",
       "4.8     12\n",
       "5.0     10\n",
       "4.7      8\n",
       "2.9      4\n",
       "3.3      4\n",
       "2.6      3\n",
       "3.2      2\n",
       "3.0      2\n",
       "4.9      2\n",
       "3.1      2\n",
       "2.4      1\n",
       "1.0      1\n",
       "2.0      1\n",
       "2.5      1\n",
       "Name: count, dtype: int64"
      ]
     },
     "execution_count": 3,
     "metadata": {},
     "output_type": "execute_result"
    }
   ],
   "source": [
    "df.Rating.value_counts()"
   ]
  },
  {
   "cell_type": "code",
   "execution_count": 4,
   "metadata": {},
   "outputs": [],
   "source": [
    "def group_ratings(col):\n",
    "    if 1.0 <= col < 2.0:\n",
    "        return '1 - 2 Rating'\n",
    "    elif 2.0 <= col < 3.0:\n",
    "        return '2 - 3 Rating'\n",
    "    elif 3.0 <= col < 4.0:\n",
    "        return '3 - 4 Rating'\n",
    "    elif 4.0 <= col < 5.0:\n",
    "        return '4 - 5 Rating'"
   ]
  },
  {
   "cell_type": "code",
   "execution_count": 5,
   "metadata": {},
   "outputs": [],
   "source": [
    "df['Ratings'] = df['Rating'].apply(group_ratings)"
   ]
  },
  {
   "cell_type": "code",
   "execution_count": 2,
   "metadata": {},
   "outputs": [
    {
     "name": "stdout",
     "output_type": "stream",
     "text": [
      "Ratings\n",
      "4 - 5 Rating    522\n",
      "3 - 4 Rating    231\n",
      "2 - 3 Rating     10\n",
      "1 - 2 Rating      1\n",
      "Name: count, dtype: int64\n"
     ]
    }
   ],
   "source": [
    "print(df.Ratings.value_counts())"
   ]
  },
  {
   "cell_type": "code",
   "execution_count": 8,
   "metadata": {},
   "outputs": [
    {
     "data": {
      "text/plain": [
       "Rating\n",
       "5.0     10\n",
       "4.9      2\n",
       "4.8     12\n",
       "4.7      8\n",
       "4.6     14\n",
       "4.5     13\n",
       "4.4     21\n",
       "4.3     33\n",
       "4.2     45\n",
       "4.1     87\n",
       "4.0    287\n",
       "3.9     56\n",
       "3.8     48\n",
       "3.7     52\n",
       "3.6     27\n",
       "3.5     19\n",
       "3.4     19\n",
       "3.3      4\n",
       "3.2      2\n",
       "3.1      2\n",
       "3.0      2\n",
       "2.9      4\n",
       "2.6      3\n",
       "2.5      1\n",
       "2.4      1\n",
       "2.0      1\n",
       "1.0      1\n",
       "Name: count, dtype: int64"
      ]
     },
     "execution_count": 8,
     "metadata": {},
     "output_type": "execute_result"
    }
   ],
   "source": [
    "df.Rating.value_counts().sort_index(ascending=False)"
   ]
  },
  {
   "cell_type": "code",
   "execution_count": 3,
   "metadata": {},
   "outputs": [
    {
     "data": {
      "text/plain": [
       "age\n",
       "26.0     47\n",
       "12.0     36\n",
       "7.0      34\n",
       "10.0     33\n",
       "49.0     30\n",
       "         ..\n",
       "53.0      1\n",
       "125.0     1\n",
       "137.0     1\n",
       "105.0     1\n",
       "103.0     1\n",
       "Name: count, Length: 84, dtype: int64"
      ]
     },
     "execution_count": 3,
     "metadata": {},
     "output_type": "execute_result"
    }
   ],
   "source": [
    "df.age.value_counts()"
   ]
  },
  {
   "cell_type": "code",
   "execution_count": 4,
   "metadata": {},
   "outputs": [
    {
     "data": {
      "text/plain": [
       "Job_simp\n",
       "data scientist    525\n",
       "na                134\n",
       "mle                73\n",
       "analyst            18\n",
       "data engineer      10\n",
       "manager             9\n",
       "director            5\n",
       "Name: count, dtype: int64"
      ]
     },
     "execution_count": 4,
     "metadata": {},
     "output_type": "execute_result"
    }
   ],
   "source": [
    "df.Job_simp.value_counts()"
   ]
  },
  {
   "cell_type": "code",
   "execution_count": 5,
   "metadata": {},
   "outputs": [
    {
     "data": {
      "text/plain": [
       "seniority\n",
       "na        599\n",
       "senior    172\n",
       "jr          3\n",
       "Name: count, dtype: int64"
      ]
     },
     "execution_count": 5,
     "metadata": {},
     "output_type": "execute_result"
    }
   ],
   "source": [
    "df.seniority.value_counts()"
   ]
  },
  {
   "cell_type": "code",
   "execution_count": 7,
   "metadata": {},
   "outputs": [
    {
     "data": {
      "text/plain": [
       "774"
      ]
     },
     "execution_count": 7,
     "metadata": {},
     "output_type": "execute_result"
    }
   ],
   "source": [
    "df.age.value_counts().sum()"
   ]
  },
  {
   "cell_type": "code",
   "execution_count": 8,
   "metadata": {},
   "outputs": [
    {
     "data": {
      "text/plain": [
       "25"
      ]
     },
     "execution_count": 8,
     "metadata": {},
     "output_type": "execute_result"
    }
   ],
   "source": [
    "df.age.value_counts().nunique()"
   ]
  },
  {
   "cell_type": "code",
   "execution_count": 9,
   "metadata": {},
   "outputs": [
    {
     "data": {
      "text/plain": [
       "84"
      ]
     },
     "execution_count": 9,
     "metadata": {},
     "output_type": "execute_result"
    }
   ],
   "source": [
    "df.age.nunique()"
   ]
  },
  {
   "cell_type": "code",
   "execution_count": 10,
   "metadata": {},
   "outputs": [
    {
     "data": {
      "text/plain": [
       "count    774.000000\n",
       "mean      44.715762\n",
       "std       54.326542\n",
       "min        3.000000\n",
       "25%       12.000000\n",
       "50%       26.000000\n",
       "75%       49.000000\n",
       "max      334.000000\n",
       "Name: age, dtype: float64"
      ]
     },
     "execution_count": 10,
     "metadata": {},
     "output_type": "execute_result"
    }
   ],
   "source": [
    "df.age.describe()"
   ]
  },
  {
   "cell_type": "code",
   "execution_count": 11,
   "metadata": {},
   "outputs": [
    {
     "data": {
      "text/plain": [
       "python\n",
       "0    588\n",
       "1    186\n",
       "Name: count, dtype: int64"
      ]
     },
     "execution_count": 11,
     "metadata": {},
     "output_type": "execute_result"
    }
   ],
   "source": [
    "df.python.value_counts()"
   ]
  },
  {
   "cell_type": "code",
   "execution_count": 12,
   "metadata": {},
   "outputs": [
    {
     "data": {
      "text/plain": [
       "seniority\n",
       "na        599\n",
       "senior    172\n",
       "jr          3\n",
       "Name: count, dtype: int64"
      ]
     },
     "execution_count": 12,
     "metadata": {},
     "output_type": "execute_result"
    }
   ],
   "source": [
    "df.seniority.value_counts()"
   ]
  },
  {
   "cell_type": "code",
   "execution_count": 6,
   "metadata": {},
   "outputs": [],
   "source": [
    "from src.utils import load_object\n",
    "\n",
    "model = load_object('../artifacts/model.pkl')\n",
    "preprocessor = load_object('../artifacts/preprocessor.pkl')"
   ]
  },
  {
   "cell_type": "code",
   "execution_count": 7,
   "metadata": {},
   "outputs": [
    {
     "ename": "TypeError",
     "evalue": "'NoneType' object is not callable",
     "output_type": "error",
     "traceback": [
      "\u001b[1;31m---------------------------------------------------------------------------\u001b[0m",
      "\u001b[1;31mTypeError\u001b[0m                                 Traceback (most recent call last)",
      "Cell \u001b[1;32mIn[7], line 1\u001b[0m\n\u001b[1;32m----> 1\u001b[0m \u001b[39mprint\u001b[39m(\u001b[39mtype\u001b[39m(preprocessor()))\n",
      "\u001b[1;31mTypeError\u001b[0m: 'NoneType' object is not callable"
     ]
    }
   ],
   "source": [
    "print(type(preprocessor()))"
   ]
  },
  {
   "cell_type": "code",
   "execution_count": null,
   "metadata": {},
   "outputs": [],
   "source": []
  },
  {
   "cell_type": "code",
   "execution_count": 21,
   "metadata": {},
   "outputs": [
    {
     "name": "stdout",
     "output_type": "stream",
     "text": [
      "<class 'NoneType'>\n"
     ]
    }
   ],
   "source": [
    "print(type(model))"
   ]
  },
  {
   "cell_type": "code",
   "execution_count": 19,
   "metadata": {},
   "outputs": [
    {
     "name": "stdout",
     "output_type": "stream",
     "text": [
      "<class 'NoneType'>\n"
     ]
    }
   ],
   "source": [
    "print(type(model1))"
   ]
  },
  {
   "cell_type": "code",
   "execution_count": 12,
   "metadata": {},
   "outputs": [
    {
     "name": "stdout",
     "output_type": "stream",
     "text": [
      "ColumnTransformer(transformers=[('num_pipeline',\n",
      "                                 Pipeline(steps=[('imputer',\n",
      "                                                  SimpleImputer(strategy='median'))]),\n",
      "                                 ['Rating', 'age', 'python', 'spark', 'aws',\n",
      "                                  'excel', 'LLMs', 'sql']),\n",
      "                                ('cat_pipeline',\n",
      "                                 Pipeline(steps=[('imputer',\n",
      "                                                  SimpleImputer(strategy='most_frequent')),\n",
      "                                                 ('encoder', OneHotEncoder())]),\n",
      "                                 ['Size', 'Industry', 'Sector', 'Ownership',\n",
      "                                  'Revenue', 'Job_simp', 'seniority'])])\n"
     ]
    }
   ],
   "source": [
    "from src.utils import load_object\n",
    "\n",
    "prepro = load_object(r'F:\\Data Science\\Data-Science-Salary-Project\\artifacts\\preprocessor.pkl')\n",
    "\n",
    "print(prepro)"
   ]
  },
  {
   "cell_type": "code",
   "execution_count": 10,
   "metadata": {},
   "outputs": [
    {
     "name": "stdout",
     "output_type": "stream",
     "text": [
      "<class 'NoneType'>\n"
     ]
    }
   ],
   "source": [
    "from src.utils import load_object\n",
    "\n",
    "model = load_object(r'F:\\Data Science\\Data-Science-Salary-Project\\artifacts\\model.pkl')\n",
    "\n",
    "print(type(model))"
   ]
  },
  {
   "cell_type": "code",
   "execution_count": 3,
   "metadata": {},
   "outputs": [
    {
     "data": {
      "text/plain": [
       "Sector\n",
       "Information Technology              326\n",
       "Finance                             146\n",
       "Management and consulting           142\n",
       "Manufacturing                       123\n",
       "Pharmaceutical and biotechnology     20\n",
       "Human resources and staffing         17\n",
       "Name: count, dtype: int64"
      ]
     },
     "execution_count": 3,
     "metadata": {},
     "output_type": "execute_result"
    }
   ],
   "source": [
    "df.Sector.value_counts()"
   ]
  },
  {
   "cell_type": "code",
   "execution_count": 9,
   "metadata": {},
   "outputs": [
    {
     "data": {
      "text/plain": [
       "Ownership\n",
       "Company - Private                 459\n",
       "Company - Public                  293\n",
       "Private Practice / Firm            12\n",
       "Subsidiary or Business Segment     10\n",
       "Name: count, dtype: int64"
      ]
     },
     "execution_count": 9,
     "metadata": {},
     "output_type": "execute_result"
    }
   ],
   "source": [
    "df.Ownership.value_counts()"
   ]
  },
  {
   "cell_type": "code",
   "execution_count": 10,
   "metadata": {},
   "outputs": [
    {
     "data": {
      "text/plain": [
       "Revenue\n",
       "10000+ million           482\n",
       "2000 - 5000 million      151\n",
       "100 - 500 million         82\n",
       "5 - 25 million            20\n",
       "25 - 50 million           15\n",
       "5000 - 10000 million      13\n",
       "1 - 5 million             11\n",
       "Name: count, dtype: int64"
      ]
     },
     "execution_count": 10,
     "metadata": {},
     "output_type": "execute_result"
    }
   ],
   "source": [
    "df.Revenue.value_counts()"
   ]
  },
  {
   "cell_type": "code",
   "execution_count": 11,
   "metadata": {},
   "outputs": [
    {
     "data": {
      "text/plain": [
       "dtype('O')"
      ]
     },
     "execution_count": 11,
     "metadata": {},
     "output_type": "execute_result"
    }
   ],
   "source": [
    "df.Revenue.dtype"
   ]
  },
  {
   "cell_type": "code",
   "execution_count": null,
   "metadata": {},
   "outputs": [],
   "source": []
  },
  {
   "cell_type": "code",
   "execution_count": 4,
   "metadata": {},
   "outputs": [
    {
     "data": {
      "text/plain": [
       "(774, 18)"
      ]
     },
     "execution_count": 4,
     "metadata": {},
     "output_type": "execute_result"
    }
   ],
   "source": [
    "df.shape"
   ]
  },
  {
   "cell_type": "code",
   "execution_count": 5,
   "metadata": {},
   "outputs": [
    {
     "data": {
      "text/plain": [
       "Index(['Rating', 'Size', 'Industry', 'Sector', 'Ownership', 'Revenue',\n",
       "       'min_salary', 'max_salary', 'avg_salary', 'age', 'python', 'spark',\n",
       "       'aws', 'excel', 'LLMs', 'sql', 'Job_simp', 'seniority'],\n",
       "      dtype='object')"
      ]
     },
     "execution_count": 5,
     "metadata": {},
     "output_type": "execute_result"
    }
   ],
   "source": [
    "df.columns"
   ]
  },
  {
   "cell_type": "code",
   "execution_count": 13,
   "metadata": {},
   "outputs": [],
   "source": [
    "import pandas as pd\n",
    "import numpy as np"
   ]
  },
  {
   "cell_type": "code",
   "execution_count": 14,
   "metadata": {},
   "outputs": [],
   "source": [
    "df = pd.read_csv('../artifacts/data_eda.csv')\n",
    "train_set = pd.read_csv('../artifacts/train.csv')\n",
    "test_set = pd.read_csv('../artifacts/test.csv')"
   ]
  },
  {
   "cell_type": "code",
   "execution_count": 15,
   "metadata": {},
   "outputs": [
    {
     "data": {
      "text/plain": [
       "Revenue\n",
       "10000+ million           503\n",
       "2000 - 5000 million      157\n",
       "100 - 500 million         88\n",
       "5 - 25 million            20\n",
       "25 - 50 million           16\n",
       "5000 - 10000 million      16\n",
       "1 - 5 million             12\n",
       "Name: count, dtype: int64"
      ]
     },
     "execution_count": 15,
     "metadata": {},
     "output_type": "execute_result"
    }
   ],
   "source": [
    "df.Revenue.value_counts()"
   ]
  },
  {
   "cell_type": "code",
   "execution_count": 16,
   "metadata": {},
   "outputs": [
    {
     "data": {
      "text/plain": [
       "Revenue\n",
       "10000+ million           410\n",
       "2000 - 5000 million      119\n",
       "100 - 500 million         71\n",
       "5 - 25 million            15\n",
       "25 - 50 million           13\n",
       "5000 - 10000 million      11\n",
       "1 - 5 million             10\n",
       "Name: count, dtype: int64"
      ]
     },
     "execution_count": 16,
     "metadata": {},
     "output_type": "execute_result"
    }
   ],
   "source": [
    "train_set.Revenue.value_counts()"
   ]
  },
  {
   "cell_type": "code",
   "execution_count": 17,
   "metadata": {},
   "outputs": [
    {
     "data": {
      "text/plain": [
       "Revenue\n",
       "10000+ million           93\n",
       "2000 - 5000 million      38\n",
       "100 - 500 million        17\n",
       "5000 - 10000 million      5\n",
       "5 - 25 million            5\n",
       "25 - 50 million           3\n",
       "1 - 5 million             2\n",
       "Name: count, dtype: int64"
      ]
     },
     "execution_count": 17,
     "metadata": {},
     "output_type": "execute_result"
    }
   ],
   "source": [
    "test_set.Revenue.value_counts()"
   ]
  },
  {
   "cell_type": "code",
   "execution_count": 18,
   "metadata": {},
   "outputs": [
    {
     "name": "stdout",
     "output_type": "stream",
     "text": [
      "ColumnTransformer(transformers=[('num_pipeline',\n",
      "                                 Pipeline(steps=[('imputer',\n",
      "                                                  SimpleImputer(strategy='median'))]),\n",
      "                                 ['Rating', 'age', 'python', 'spark', 'aws',\n",
      "                                  'excel', 'LLMs', 'sql']),\n",
      "                                ('cat_pipeline',\n",
      "                                 Pipeline(steps=[('imputer',\n",
      "                                                  SimpleImputer(strategy='most_frequent')),\n",
      "                                                 ('encoder',\n",
      "                                                  OneHotEncoder(sparse_output=False))]),\n",
      "                                 ['Size', 'Industry', 'Sector', 'Ownership',\n",
      "                                  'Revenue', 'Job_simp', 'seniority'])])\n"
     ]
    }
   ],
   "source": [
    "from src.utils import load_object\n",
    "preprocessor1 = load_object(file_path='../artifacts/preprocessor.pkl')\n",
    "print(preprocessor1)"
   ]
  },
  {
   "cell_type": "code",
   "execution_count": 19,
   "metadata": {},
   "outputs": [
    {
     "name": "stdout",
     "output_type": "stream",
     "text": [
      "<catboost.core.CatBoostRegressor object at 0x0000001FBC3C9CA0>\n"
     ]
    }
   ],
   "source": [
    "model1 = load_object(file_path='../artifacts/model.pkl')\n",
    "print(model1)"
   ]
  },
  {
   "cell_type": "code",
   "execution_count": 20,
   "metadata": {},
   "outputs": [
    {
     "name": "stdout",
     "output_type": "stream",
     "text": [
      "Encoder Categories for Revenue:\n",
      "Column 0: ['1 - 50 Employees' '10000+ Employees' '1001 - 5000 Employees'\n",
      " '201 - 500 Employees' '5001 - 10000 Employees' '501 - 1000 Employees'\n",
      " '51 - 200 Employees']\n",
      "Column 1: ['Advertising & Public Relations' 'Banking & Lending'\n",
      " 'Biotech & Pharmaceuticals' 'Business consulting'\n",
      " 'Computer Hardware Development' 'Electronics Manufacturing'\n",
      " 'Enterprise Software & Network Solutions' 'HR Consulting'\n",
      " 'Health Care Products Manufacturing'\n",
      " 'Information Technology Support Services' 'Internet & Web Services'\n",
      " 'Investment & Asset Management' 'Machinery Manufacturing'\n",
      " 'Research and development' 'Software Development'\n",
      " 'Transportation Equipment Manufacturing']\n",
      "Column 2: ['Finance' 'Human resources and staffing' 'Information Technology'\n",
      " 'Management and consulting' 'Manufacturing' 'Media and communication'\n",
      " 'Pharmaceutical and biotechnology']\n",
      "Column 3: ['Company - Private' 'Company - Public' 'Private Practice / Firm'\n",
      " 'Subsidiary or Business Segment']\n",
      "Column 4: ['1 - 5 million ' '100 - 500 million ' '10000+ million '\n",
      " '2000 - 5000 million ' '25 - 50 million ' '5 - 25 million '\n",
      " '5000 - 10000 million ']\n",
      "Column 5: ['analyst' 'data engineer' 'data scientist' 'director' 'manager' 'mle'\n",
      " 'na']\n",
      "Column 6: ['jr' 'na' 'senior']\n"
     ]
    }
   ],
   "source": [
    "if hasattr(preprocessor1, 'named_transformers_'):\n",
    "            revenue_encoder = preprocessor1.named_transformers_['cat_pipeline'].named_steps['encoder']\n",
    "            print(\"Encoder Categories for Revenue:\")\n",
    "            for i, cat in enumerate(revenue_encoder.categories_):\n",
    "                print(f\"Column {i}: {cat}\")"
   ]
  },
  {
   "cell_type": "code",
   "execution_count": null,
   "metadata": {},
   "outputs": [],
   "source": []
  }
 ],
 "metadata": {
  "kernelspec": {
   "display_name": "Python 3",
   "language": "python",
   "name": "python3"
  },
  "language_info": {
   "codemirror_mode": {
    "name": "ipython",
    "version": 3
   },
   "file_extension": ".py",
   "mimetype": "text/x-python",
   "name": "python",
   "nbconvert_exporter": "python",
   "pygments_lexer": "ipython3",
   "version": "3.8.19"
  },
  "orig_nbformat": 4
 },
 "nbformat": 4,
 "nbformat_minor": 2
}
